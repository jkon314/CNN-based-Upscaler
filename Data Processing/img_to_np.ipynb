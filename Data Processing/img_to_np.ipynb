{
 "cells": [
  {
   "cell_type": "code",
   "execution_count": 2,
   "id": "8104bd67",
   "metadata": {},
   "outputs": [
    {
     "name": "stdout",
     "output_type": "stream",
     "text": [
      "(1080, 1920, 3)\n"
     ]
    }
   ],
   "source": [
    "import cv2\n",
    "import numpy as np\n",
    "\n",
    "\n",
    "\n",
    "#loop through each image and append\n",
    "vidName1 = 'CodGP'\n",
    "vidName2 = 'CODGP'\n",
    "fPath   = '../Data/Frames/'\n",
    "\n",
    "#test\n",
    "tar = cv2.imread(f'{fPath}{vidName1}_frame_{1}.jpg',cv2.IMREAD_COLOR)\n",
    "print(tar.shape)"
   ]
  },
  {
   "cell_type": "code",
   "execution_count": null,
   "id": "4a74a6f3",
   "metadata": {},
   "outputs": [],
   "source": [
    "\n",
    "\n",
    "vidFrames = 24410\n",
    "\n",
    "chunkSize = 1000\n",
    "\n",
    "\n",
    "def streamFrames(chunkSize=1000,startFrame=1,vidName1080='CodGP',vidName720 ='CODGP') -> (np.array,np.array) :\n",
    "\n",
    "    \"\"\"\n",
    "\n",
    "\n",
    "\n",
    "    \"\"\"\n",
    "\n",
    "\n",
    "    for i in range(startFrame,startFrame+chunkSize):\n",
    "        \n",
    "\n",
    "        print(f'Processing frame {i}/{vidFrames}',end='\\r')\n",
    "\n",
    "        tar = cv2.imread(f'{fPath}{vidName1080}_frame_{i}.jpg',cv2.IMREAD_COLOR)\n",
    "        source = cv2.imread(f'{fPath}{vidName720}_720_frame_{i}.jpg',cv2.IMREAD_COLOR)\n",
    "        \n",
    "        targetFrames.append(tar)\n",
    "        inFrames.append(source)\n",
    "\n",
    "\n",
    "    return (np.array(targetFrames),np.array(inFrames))\n",
    "    \n",
    "\n",
    "\n",
    "\n"
   ]
  },
  {
   "cell_type": "code",
   "execution_count": null,
   "id": "a41310b6",
   "metadata": {},
   "outputs": [
    {
     "name": "stdout",
     "output_type": "stream",
     "text": [
      "Processing frame 1000/24410\r"
     ]
    }
   ],
   "source": [
    "\n",
    "\n",
    "\n",
    "\n"
   ]
  },
  {
   "cell_type": "code",
   "execution_count": null,
   "id": "6dc7d232",
   "metadata": {},
   "outputs": [],
   "source": []
  }
 ],
 "metadata": {
  "kernelspec": {
   "display_name": "Python 3",
   "language": "python",
   "name": "python3"
  },
  "language_info": {
   "codemirror_mode": {
    "name": "ipython",
    "version": 3
   },
   "file_extension": ".py",
   "mimetype": "text/x-python",
   "name": "python",
   "nbconvert_exporter": "python",
   "pygments_lexer": "ipython3",
   "version": "3.12.0"
  }
 },
 "nbformat": 4,
 "nbformat_minor": 5
}
