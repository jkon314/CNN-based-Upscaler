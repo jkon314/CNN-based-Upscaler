{
 "cells": [
  {
   "cell_type": "code",
   "execution_count": null,
   "metadata": {},
   "outputs": [],
   "source": [
    "# Just run this block. Please do not modify the following code.\n",
    "import math\n",
    "import time\n",
    "import io\n",
    "import numpy as np\n",
    "import csv\n",
    "from IPython.display import Image\n",
    "\n",
    "# Pytorch package\n",
    "import torch\n",
    "import torch.nn as nn\n",
    "import torch.optim as optim\n",
    "\n",
    "# Torchtest package\n",
    "# import torchtext\n",
    "# from torchtext.datasets import Multi30k\n",
    "from torch.utils.data import DataLoader\n",
    "# from torchtext.data.utils import get_tokenizer\n",
    "from collections import Counter\n",
    "# from torchtext.vocab import vocab\n",
    "# from torchtext.utils import download_from_url, extract_archive\n",
    "\n",
    "from torch.optim import Adam\n",
    "\n",
    "# Tqdm progress bar\n",
    "from tqdm import tqdm_notebook, tqdm\n",
    "\n",
    "# Code provide to you for training and evaluation\n",
    "\n",
    "%load_ext autoreload\n",
    "%autoreload 2\n",
    "\n",
    "torch.seed"
   ]
  },
  {
   "cell_type": "code",
   "execution_count": null,
   "metadata": {},
   "outputs": [],
   "source": [
    "# Check device availability\n",
    "device = 'cpu'\n",
    "if torch.cuda.is_available():\n",
    "    device = 'cuda'\n",
    "elif torch.backends.mps.is_available():\n",
    "    device = 'mps'\n",
    "else:\n",
    "    device = 'cpu'\n",
    "device = torch.device(device)\n",
    "print(\"You are using device: %s\" % device)\n",
    "\n",
    "#torch.cuda.set_per_process_memory_fraction(0.95, device=None)\n",
    "\n",
    "free_memory, total_memory = torch.cuda.mem_get_info()\n",
    "print(f\"Free GPU memory: {free_memory / (1024**2):.2f} MB\")\n",
    "print(f\"Total GPU memory: {total_memory / (1024**2):.2f} MB\")"
   ]
  },
  {
   "cell_type": "markdown",
   "metadata": {},
   "source": [
    "# Training, evaluation, and plotting loss curves"
   ]
  },
  {
   "cell_type": "code",
   "execution_count": null,
   "metadata": {},
   "outputs": [],
   "source": [
    "# Code provide to you for training and evaluation\n",
    "from utils import train, plot_curves, evaluate, streamFrames\n",
    "\n",
    "\n",
    "from CNNModel import CNNModel\n",
    "\n",
    "def train_and_plot(model, optimizer, scheduler, criterion, train_loader, valid_loader, filename, epochs, device='cpu'):\n",
    "    train_loss_history = []\n",
    "    valid_loss_history = []\n",
    "\n",
    "    for epoch_idx in range(epochs):\n",
    "        print(\"-----------------------------------\")\n",
    "        print(\"Epoch %d\" % (epoch_idx+1))\n",
    "        print(\"-----------------------------------\")\n",
    "\n",
    "        train_loss, avg_train_loss = train(model, train_loader, optimizer, criterion, device=device)\n",
    "        scheduler.step(train_loss)\n",
    "\n",
    "        val_loss, avg_val_loss = evaluate(model, valid_loader, criterion, device=device)\n",
    "\n",
    "        train_loss_history.append(avg_train_loss)\n",
    "        valid_loss_history.append(avg_val_loss)\n",
    "\n",
    "        print(\"Training Loss: %.4f. Validation Loss: %.4f.\" % (avg_train_loss, avg_val_loss))\n",
    "\n",
    "    plot_curves(train_loss_history, valid_loss_history, filename)\n"
   ]
  },
  {
   "cell_type": "code",
   "execution_count": null,
   "metadata": {},
   "outputs": [],
   "source": [
    "import numpy as np\n",
    "from CNNModel import BasicBlock\n",
    "# Example usage:\n",
    "model = CNNModel(BasicBlock,layers=[3,3,3,3])\n",
    "\n",
    "model.load_state_dict(torch.load('model.pt'))"
   ]
  },
  {
   "cell_type": "code",
   "execution_count": null,
   "metadata": {},
   "outputs": [],
   "source": [
    "from utils import criterion\n",
    "\n",
    "\n",
    "\n",
    "for counter in range(10,20):\n",
    "\n",
    "\n",
    "    targets, inFrames = streamFrames(chunkSize=10,startFrame=10*counter+1)\n",
    "\n",
    "\n",
    "\n",
    "    dataList = []\n",
    "\n",
    "    for i in range(0,targets.shape[0]):\n",
    "        dataList.append((targets[i,:],inFrames[i,:,:,:]))\n",
    "\n",
    "\n",
    "    your_train_dataset = dataList\n",
    "    your_valid_dataset = dataList\n",
    "    train_loader = DataLoader(your_train_dataset, batch_size=8, shuffle=True)\n",
    "    valid_loader = DataLoader(your_valid_dataset, batch_size=8, shuffle=False)\n",
    "    optimizer = Adam(model.parameters(), lr=1e-3)\n",
    "    scheduler = torch.optim.lr_scheduler.ReduceLROnPlateau(optimizer, 'min')\n",
    "    criterion = criterion\n",
    "    filename = \"training_loss_curves\"\n",
    "    epochs = 2\n",
    "\n",
    "\n",
    "\n",
    "\n",
    "\n",
    "\n",
    "\n",
    "\n",
    "\n",
    "\n",
    "\n",
    "\n",
    "\n",
    "    # device = 'cuda' if torch.cuda.is_available() else 'cpu'\n",
    "\n",
    "    train_and_plot(model, optimizer, scheduler, criterion, train_loader, valid_loader, filename, epochs, device)\n",
    "    torch.save(model.state_dict(),'model.pt')"
   ]
  },
  {
   "cell_type": "code",
   "execution_count": null,
   "metadata": {},
   "outputs": [],
   "source": [
    "torch.save(model.state_dict(),'model.pt')"
   ]
  }
 ],
 "metadata": {
  "kernelspec": {
   "display_name": "Python 3",
   "language": "python",
   "name": "python3"
  },
  "language_info": {
   "codemirror_mode": {
    "name": "ipython",
    "version": 3
   },
   "file_extension": ".py",
   "mimetype": "text/x-python",
   "name": "python",
   "nbconvert_exporter": "python",
   "pygments_lexer": "ipython3",
   "version": "3.12.0"
  }
 },
 "nbformat": 4,
 "nbformat_minor": 2
}
