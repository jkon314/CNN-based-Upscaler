{
 "cells": [
  {
   "cell_type": "code",
   "execution_count": null,
   "id": "3ffa34b3",
   "metadata": {},
   "outputs": [],
   "source": [
    "import numpy as np\n",
    "import csv\n",
    "from IPython.display import Image\n",
    "import torch\n",
    "import torch.nn as nn\n",
    "from CNNModel import BasicBlock\n",
    "from utils import convert_to_input, reconstruct_image\n",
    "from cv2 import imread,imwrite\n",
    "\n",
    "from CNNModel import CNNModel\n",
    "\n",
    "upscaler = CNNModel(BasicBlock,layers=[3,3,3,3])\n",
    "\n",
    "upscaler.load_state_dict(torch.load('model.pt',weights_only=True))"
   ]
  },
  {
   "cell_type": "code",
   "execution_count": null,
   "id": "d569abe3",
   "metadata": {},
   "outputs": [],
   "source": [
    "\n",
    "#enter image path here\n",
    "img_name = 'CODGP_720_frame_1000'\n",
    "img_path = f'../Data/Frames/{img_name}.jpg'\n",
    "\n",
    "img = imread(img_path)\n",
    "imgs = convert_to_input(img)\n",
    "\n",
    "print(img.shape)\n",
    "print(img[0:10])"
   ]
  },
  {
   "cell_type": "code",
   "execution_count": null,
   "id": "700ed94a",
   "metadata": {},
   "outputs": [],
   "source": [
    "\n",
    " \n",
    "torches = torch.tensor(imgs,device='cuda',dtype=torch.float)\n",
    "\n",
    "\n",
    "img_upscaled = upscaler(torches)\n",
    "\n",
    "\n",
    "img_upscaled = reconstruct_image(img_upscaled)\n"
   ]
  },
  {
   "cell_type": "code",
   "execution_count": null,
   "id": "a839b108",
   "metadata": {},
   "outputs": [],
   "source": [
    "print(img_upscaled.shape)\n",
    "\n",
    "print(img_upscaled[0:10])\n",
    "\n",
    "img_upscaled = np.clip(img_upscaled,0,255)\n",
    "\n",
    "print(img_upscaled[0:10])"
   ]
  },
  {
   "cell_type": "code",
   "execution_count": null,
   "id": "134789f6",
   "metadata": {},
   "outputs": [],
   "source": [
    "\n",
    "\n",
    "imwrite(f'upscaled_{img_name}.png',img_upscaled)\n"
   ]
  }
 ],
 "metadata": {
  "kernelspec": {
   "display_name": "Python 3",
   "language": "python",
   "name": "python3"
  },
  "language_info": {
   "codemirror_mode": {
    "name": "ipython",
    "version": 3
   },
   "file_extension": ".py",
   "mimetype": "text/x-python",
   "name": "python",
   "nbconvert_exporter": "python",
   "pygments_lexer": "ipython3",
   "version": "3.12.0"
  }
 },
 "nbformat": 4,
 "nbformat_minor": 5
}
